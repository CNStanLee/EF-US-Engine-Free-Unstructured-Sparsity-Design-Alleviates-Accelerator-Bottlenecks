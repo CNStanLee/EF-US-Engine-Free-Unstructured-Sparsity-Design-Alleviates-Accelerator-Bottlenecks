{
 "cells": [
  {
   "cell_type": "code",
   "execution_count": 11,
   "id": "16a7928c",
   "metadata": {},
   "outputs": [],
   "source": [
    "import finn.builder.build_dataflow as build\n",
    "import finn.builder.build_dataflow_config as build_cfg\n",
    "import os\n",
    "import shutil\n",
    "\n",
    "pynq_part_map = dict()\n",
    "pynq_part_map[\"Ultra96\"] = \"xczu3eg-sbva484-1-e\"\n",
    "pynq_part_map[\"Ultra96-V2\"] = \"xczu3eg-sbva484-1-i\"\n",
    "pynq_part_map[\"Pynq-Z1\"] = \"xc7z020clg400-1\"\n",
    "pynq_part_map[\"Pynq-Z2\"] = \"xc7z020clg400-1\"\n",
    "pynq_part_map[\"ZCU102\"] = \"xczu9eg-ffvb1156-2-e\"\n",
    "pynq_part_map[\"ZCU104\"] = \"xczu7ev-ffvc1156-2-e\"\n",
    "pynq_part_map[\"ZCU111\"] = \"xczu28dr-ffvg1517-2-e\"\n",
    "pynq_part_map[\"RFSoC2x2\"] = \"xczu28dr-ffvg1517-2-e\"\n",
    "pynq_part_map[\"RFSoC4x2\"] = \"xczu48dr-ffvg1517-2-e\"\n",
    "pynq_part_map[\"KV260_SOM\"] = \"xck26-sfvc784-2LV-c\""
   ]
  },
  {
   "cell_type": "code",
   "execution_count": 12,
   "id": "0d518ea6",
   "metadata": {},
   "outputs": [
    {
     "name": "stdout",
     "output_type": "stream",
     "text": [
      "Data directory: /home/changhong/prj/finn/notebooks/EF-US-Engine-Free-Unstructured-Sparsity-Design-Alleviates-Accelerator-Bottlenecks/casestudy1/LeNet_MNIST/data\n",
      "Finn root directory: /home/changhong/prj/finn/notebooks\n",
      "Build directory: /home/changhong/prj/finn/notebooks/EF-US-Engine-Free-Unstructured-Sparsity-Design-Alleviates-Accelerator-Bottlenecks/casestudy1/LeNet_MNIST/build\n",
      "Model directory: /home/changhong/prj/finn/notebooks/EF-US-Engine-Free-Unstructured-Sparsity-Design-Alleviates-Accelerator-Bottlenecks/casestudy1/LeNet_MNIST/model\n",
      "Estimates output directory: /home/changhong/prj/finn/notebooks/EF-US-Engine-Free-Unstructured-Sparsity-Design-Alleviates-Accelerator-Bottlenecks/casestudy1/LeNet_MNIST/estimates_output\n"
     ]
    }
   ],
   "source": [
    "notebook_name = \"/EF-US-Engine-Free-Unstructured-Sparsity-Design-Alleviates-Accelerator-Bottlenecks/casestudy1/LeNet_MNIST\"\n",
    "finn_root = os.getcwd()\n",
    "build_dir = finn_root+ notebook_name +\"/build\"\n",
    "model_dir = finn_root+ notebook_name +\"/model\"\n",
    "data_dir = finn_root+ notebook_name +\"/data\"\n",
    "estimates_output_dir = finn_root + notebook_name + \"/estimates_output\"\n",
    "\n",
    "# Create directories if they do not exist\n",
    "os.makedirs(build_dir, exist_ok=True)\n",
    "os.makedirs(model_dir, exist_ok=True)\n",
    "os.makedirs(data_dir, exist_ok=True)\n",
    "os.makedirs(estimates_output_dir, exist_ok=True)\n",
    "print(f\"Data directory: {data_dir}\")\n",
    "print(f\"Finn root directory: {finn_root}\")\n",
    "print(f\"Build directory: {build_dir}\")\n",
    "print(f\"Model directory: {model_dir}\")\n",
    "print(f\"Estimates output directory: {estimates_output_dir}\")\n"
   ]
  },
  {
   "cell_type": "code",
   "execution_count": 13,
   "id": "e9734f75",
   "metadata": {},
   "outputs": [
    {
     "name": "stdout",
     "output_type": "stream",
     "text": [
      "Previous run results deleted!\n"
     ]
    }
   ],
   "source": [
    "\n",
    "if os.path.exists(estimates_output_dir):\n",
    "    shutil.rmtree(estimates_output_dir)\n",
    "    print(\"Previous run results deleted!\")"
   ]
  },
  {
   "cell_type": "code",
   "execution_count": 14,
   "id": "9332e1e7",
   "metadata": {},
   "outputs": [],
   "source": [
    "cfg_estimates = build.DataflowBuildConfig(\n",
    "    output_dir          = estimates_output_dir,\n",
    "    target_fps          = 1000000,\n",
    "    synth_clk_period_ns = 10.0,\n",
    "    # fpga_part           = \"xc7z020clg400-1\",\n",
    "    fpga_part           = pynq_part_map[\"ZCU104\"],\n",
    "    steps               = build_cfg.estimate_only_dataflow_steps,\n",
    "    generate_outputs=[\n",
    "        build_cfg.DataflowOutputType.ESTIMATE_REPORTS,\n",
    "    ]\n",
    ")"
   ]
  },
  {
   "cell_type": "code",
   "execution_count": 15,
   "id": "f22eb2cf",
   "metadata": {},
   "outputs": [
    {
     "name": "stdout",
     "output_type": "stream",
     "text": [
      "Building dataflow accelerator from /home/changhong/prj/finn/notebooks/EF-US-Engine-Free-Unstructured-Sparsity-Design-Alleviates-Accelerator-Bottlenecks/casestudy1/LeNet_MNIST/model/lenet_mnist_int8_prune_ready.onnx\n",
      "Intermediate outputs will be generated in /tmp/finn_dev_root\n",
      "Final outputs will be generated in /home/changhong/prj/finn/notebooks/EF-US-Engine-Free-Unstructured-Sparsity-Design-Alleviates-Accelerator-Bottlenecks/casestudy1/LeNet_MNIST/estimates_output\n",
      "Build log is at /home/changhong/prj/finn/notebooks/EF-US-Engine-Free-Unstructured-Sparsity-Design-Alleviates-Accelerator-Bottlenecks/casestudy1/LeNet_MNIST/estimates_output/build_dataflow.log\n",
      "Running step: step_qonnx_to_finn [1/10]\n",
      "Running step: step_tidy_up [2/10]\n",
      "Running step: step_streamline [3/10]\n",
      "Running step: step_convert_to_hw [4/10]\n",
      "Running step: step_create_dataflow_partition [5/10]\n",
      "Running step: step_specialize_layers [6/10]\n",
      "Running step: step_target_fps_parallelization [7/10]\n",
      "Running step: step_apply_folding_config [8/10]\n",
      "Running step: step_minimize_bit_width [9/10]\n",
      "Running step: step_generate_estimate_reports [10/10]\n",
      "Completed successfully\n"
     ]
    },
    {
     "data": {
      "text/plain": [
       "0"
      ]
     },
     "execution_count": 15,
     "metadata": {},
     "output_type": "execute_result"
    }
   ],
   "source": [
    "ready_model_file = model_dir + \"/lenet_mnist_int8_prune_ready.onnx\"\n",
    "build.build_dataflow_cfg(ready_model_file, cfg_estimates)"
   ]
  }
 ],
 "metadata": {
  "kernelspec": {
   "display_name": "Python 3 (ipykernel)",
   "language": "python",
   "name": "python3"
  },
  "language_info": {
   "codemirror_mode": {
    "name": "ipython",
    "version": 3
   },
   "file_extension": ".py",
   "mimetype": "text/x-python",
   "name": "python",
   "nbconvert_exporter": "python",
   "pygments_lexer": "ipython3",
   "version": "3.10.12"
  }
 },
 "nbformat": 4,
 "nbformat_minor": 5
}

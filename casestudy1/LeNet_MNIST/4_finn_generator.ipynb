{
 "cells": [
  {
   "cell_type": "code",
   "execution_count": 16,
   "id": "16a7928c",
   "metadata": {},
   "outputs": [
    {
     "name": "stdout",
     "output_type": "stream",
     "text": [
      "/home/changhong/prj/finn/notebooks/EF-US-Engine-Free-Unstructured-Sparsity-Design-Alleviates-Accelerator-Bottlenecks/casestudy1/LeNet_MNIST/EF-US-Engine-Free-Unstructured-Sparsity-Design-Alleviates-Accelerator-Bottlenecks/casestudy1/LeNet_MNIST/build/auto/home/changhong/prj/finn/notebooks/EF-US-Engine-Free-Unstructured-Sparsity-Design-Alleviates-Accelerator-Bottlenecks/casestudy1/LeNet_MNIST/EF-US-Engine-Free-Unstructured-Sparsity-Design-Alleviates-Accelerator-Bottlenecks/casestudy1/LeNet_MNIST/tmp/auto\n"
     ]
    }
   ],
   "source": [
    "import finn.builder.build_dataflow as build\n",
    "import finn.builder.build_dataflow_config as build_cfg\n",
    "import os\n",
    "import shutil\n",
    "import os\n",
    "print(os.environ[\"FINN_BUILD_DIR\"])\n",
    "pynq_part_map = dict()\n",
    "pynq_part_map[\"Ultra96\"] = \"xczu3eg-sbva484-1-e\"\n",
    "pynq_part_map[\"Ultra96-V2\"] = \"xczu3eg-sbva484-1-i\"\n",
    "pynq_part_map[\"Pynq-Z1\"] = \"xc7z020clg400-1\"\n",
    "pynq_part_map[\"Pynq-Z2\"] = \"xc7z020clg400-1\"\n",
    "pynq_part_map[\"ZCU102\"] = \"xczu9eg-ffvb1156-2-e\"\n",
    "pynq_part_map[\"ZCU104\"] = \"xczu7ev-ffvc1156-2-e\"\n",
    "pynq_part_map[\"ZCU111\"] = \"xczu28dr-ffvg1517-2-e\"\n",
    "pynq_part_map[\"RFSoC2x2\"] = \"xczu28dr-ffvg1517-2-e\"\n",
    "pynq_part_map[\"RFSoC4x2\"] = \"xczu48dr-ffvg1517-2-e\"\n",
    "pynq_part_map[\"KV260_SOM\"] = \"xck26-sfvc784-2LV-c\""
   ]
  },
  {
   "cell_type": "code",
   "execution_count": 17,
   "id": "76be5c87-855c-45d8-b67e-170b65fe2cbb",
   "metadata": {},
   "outputs": [
    {
     "name": "stdout",
     "output_type": "stream",
     "text": [
      "/home/changhong/prj/finn/notebooks/EF-US-Engine-Free-Unstructured-Sparsity-Design-Alleviates-Accelerator-Bottlenecks/casestudy1/LeNet_MNIST\n"
     ]
    }
   ],
   "source": [
    "finn_root = os.getcwd()\n",
    "print(finn_root)"
   ]
  },
  {
   "cell_type": "code",
   "execution_count": 18,
   "id": "0d518ea6",
   "metadata": {},
   "outputs": [
    {
     "name": "stdout",
     "output_type": "stream",
     "text": [
      "Data directory: /home/changhong/prj/finn/notebooks/EF-US-Engine-Free-Unstructured-Sparsity-Design-Alleviates-Accelerator-Bottlenecks/casestudy1/LeNet_MNIST/data\n",
      "Finn root directory: /home/changhong/prj/finn/notebooks\n",
      "Build directory: /home/changhong/prj/finn/notebooks/EF-US-Engine-Free-Unstructured-Sparsity-Design-Alleviates-Accelerator-Bottlenecks/casestudy1/LeNet_MNIST/build/auto\n",
      "Model directory: /home/changhong/prj/finn/notebooks/EF-US-Engine-Free-Unstructured-Sparsity-Design-Alleviates-Accelerator-Bottlenecks/casestudy1/LeNet_MNIST/model\n",
      "Estimates output directory: /home/changhong/prj/finn/notebooks/EF-US-Engine-Free-Unstructured-Sparsity-Design-Alleviates-Accelerator-Bottlenecks/casestudy1/LeNet_MNIST/estimates_output/auto\n",
      "RTLSim output directory: /home/changhong/prj/finn/notebooks/EF-US-Engine-Free-Unstructured-Sparsity-Design-Alleviates-Accelerator-Bottlenecks/casestudy1/LeNet_MNIST/rtlsim_output/auto\n",
      "Tmp directory: /home/changhong/prj/finn/notebooks/EF-US-Engine-Free-Unstructured-Sparsity-Design-Alleviates-Accelerator-Bottlenecks/casestudy1/LeNet_MNIST/build/auto/home/changhong/prj/finn/notebooks/EF-US-Engine-Free-Unstructured-Sparsity-Design-Alleviates-Accelerator-Bottlenecks/casestudy1/LeNet_MNIST/tmp/auto\n"
     ]
    }
   ],
   "source": [
    "try_name = \"/auto\"\n",
    "\n",
    "notebook_name = \"/EF-US-Engine-Free-Unstructured-Sparsity-Design-Alleviates-Accelerator-Bottlenecks/casestudy1/LeNet_MNIST\"\n",
    "#finn_root = os.getcwd()\n",
    "finn_root = \"/home/changhong/prj/finn/notebooks\"\n",
    "\n",
    "build_dir = finn_root+ notebook_name +\"/build\" + try_name\n",
    "model_dir = finn_root+ notebook_name +\"/model\"\n",
    "data_dir = finn_root+ notebook_name +\"/data\"\n",
    "estimates_output_dir = finn_root + notebook_name + \"/estimates_output\" + try_name\n",
    "model_name = \"/lenet_mnist_int8_prune_ready.onnx\"\n",
    "rtlsim_output_dir = finn_root + notebook_name + \"/rtlsim_output\" + try_name\n",
    "folding_config_file = finn_root + notebook_name + \"/folding_config/auto.json\"\n",
    "tmp_path = build_dir + finn_root+ notebook_name + \"/tmp\" + try_name\n",
    "\n",
    "# Create directories if they do not exist\n",
    "os.makedirs(build_dir, exist_ok=True)\n",
    "os.makedirs(model_dir, exist_ok=True)\n",
    "os.makedirs(data_dir, exist_ok=True)\n",
    "os.makedirs(estimates_output_dir, exist_ok=True)\n",
    "os.makedirs(rtlsim_output_dir, exist_ok=True)\n",
    "\n",
    "os.environ[\"FINN_BUILD_DIR\"] = tmp_path\n",
    "print(f\"Data directory: {data_dir}\")\n",
    "print(f\"Finn root directory: {finn_root}\")\n",
    "print(f\"Build directory: {build_dir}\")\n",
    "print(f\"Model directory: {model_dir}\")\n",
    "print(f\"Estimates output directory: {estimates_output_dir}\")\n",
    "print(f\"RTLSim output directory: {rtlsim_output_dir}\")\n",
    "print(f\"Tmp directory: {tmp_path}\")"
   ]
  },
  {
   "cell_type": "code",
   "execution_count": 19,
   "id": "e9734f75",
   "metadata": {},
   "outputs": [
    {
     "name": "stdout",
     "output_type": "stream",
     "text": [
      "Previous run results deleted!\n",
      "Previous run results deleted!\n"
     ]
    }
   ],
   "source": [
    "if os.path.exists(estimates_output_dir):\n",
    "    shutil.rmtree(estimates_output_dir)\n",
    "    print(\"Previous run results deleted!\")\n",
    "\n",
    "if os.path.exists(rtlsim_output_dir):\n",
    "    shutil.rmtree(rtlsim_output_dir)\n",
    "    print(\"Previous run results deleted!\")\n",
    "\n",
    "if os.path.exists(tmp_path):\n",
    "    shutil.rmtree(tmp_path)\n",
    "    print(\"Previous run results deleted!\")"
   ]
  },
  {
   "cell_type": "code",
   "execution_count": 20,
   "id": "9332e1e7",
   "metadata": {},
   "outputs": [],
   "source": [
    "cfg_stitched_ip = build.DataflowBuildConfig(\n",
    "    output_dir          = rtlsim_output_dir,\n",
    "    mvau_wwidth_max     = 10000,\n",
    "    target_fps          = 1000000,\n",
    "    synth_clk_period_ns = 10.0,    \n",
    "    fpga_part           = pynq_part_map[\"ZCU104\"],\n",
    "    folding_config_file = folding_config_file,\n",
    "    generate_outputs=[\n",
    "        build_cfg.DataflowOutputType.STITCHED_IP,\n",
    "        build_cfg.DataflowOutputType.RTLSIM_PERFORMANCE,\n",
    "        build_cfg.DataflowOutputType.OOC_SYNTH,\n",
    "    ]\n",
    ")"
   ]
  },
  {
   "cell_type": "code",
   "execution_count": null,
   "id": "f22eb2cf",
   "metadata": {},
   "outputs": [
    {
     "name": "stdout",
     "output_type": "stream",
     "text": [
      "Building dataflow accelerator from /home/changhong/prj/finn/notebooks/EF-US-Engine-Free-Unstructured-Sparsity-Design-Alleviates-Accelerator-Bottlenecks/casestudy1/LeNet_MNIST/model/lenet_mnist_int8_prune_ready.onnx\n",
      "Intermediate outputs will be generated in /home/changhong/prj/finn/notebooks/EF-US-Engine-Free-Unstructured-Sparsity-Design-Alleviates-Accelerator-Bottlenecks/casestudy1/LeNet_MNIST/build/auto/home/changhong/prj/finn/notebooks/EF-US-Engine-Free-Unstructured-Sparsity-Design-Alleviates-Accelerator-Bottlenecks/casestudy1/LeNet_MNIST/tmp/auto\n",
      "Final outputs will be generated in /home/changhong/prj/finn/notebooks/EF-US-Engine-Free-Unstructured-Sparsity-Design-Alleviates-Accelerator-Bottlenecks/casestudy1/LeNet_MNIST/rtlsim_output/auto\n",
      "Build log is at /home/changhong/prj/finn/notebooks/EF-US-Engine-Free-Unstructured-Sparsity-Design-Alleviates-Accelerator-Bottlenecks/casestudy1/LeNet_MNIST/rtlsim_output/auto/build_dataflow.log\n",
      "Running step: step_qonnx_to_finn [1/19]\n",
      "Running step: step_tidy_up [2/19]\n",
      "Running step: step_streamline [3/19]\n",
      "Running step: step_convert_to_hw [4/19]\n",
      "Running step: step_create_dataflow_partition [5/19]\n",
      "Running step: step_specialize_layers [6/19]\n",
      "Running step: step_target_fps_parallelization [7/19]\n",
      "Running step: step_apply_folding_config [8/19]\n",
      "Running step: step_minimize_bit_width [9/19]\n",
      "Running step: step_generate_estimate_reports [10/19]\n",
      "Running step: step_hw_codegen [11/19]\n",
      "Running step: step_hw_ipgen [12/19]\n"
     ]
    }
   ],
   "source": [
    "ready_model_file = model_dir + model_name\n",
    "build.build_dataflow_cfg(ready_model_file, cfg_stitched_ip)"
   ]
  },
  {
   "cell_type": "markdown",
   "id": "b90b5ca6",
   "metadata": {},
   "source": [
    "## Fully Unfold"
   ]
  },
  {
   "cell_type": "code",
   "execution_count": null,
   "id": "97633a6e",
   "metadata": {},
   "outputs": [],
   "source": [
    "try_name = \"/unfold\"\n",
    "\n",
    "notebook_name = \"/EF-US-Engine-Free-Unstructured-Sparsity-Design-Alleviates-Accelerator-Bottlenecks/casestudy1/LeNet_MNIST\"\n",
    "#finn_root = os.getcwd()\n",
    "finn_root = \"/home/changhong/prj/finn/notebooks\")\n",
    "build_dir = finn_root+ notebook_name +\"/build\" + try_name\n",
    "model_dir = finn_root+ notebook_name +\"/model\"\n",
    "data_dir = finn_root+ notebook_name +\"/data\"\n",
    "estimates_output_dir = finn_root + notebook_name + \"/estimates_output\" + try_name\n",
    "model_name = \"/lenet_mnist_int8_prune_ready.onnx\"\n",
    "rtlsim_output_dir = finn_root + notebook_name + \"/rtlsim_output\" + try_name\n",
    "folding_config_file = finn_root + notebook_name + \"/folding_config/unfold.json\"\n",
    "tmp_path = build_dir = finn_root+ notebook_name + \"/tmp\" + try_name\n",
    "\n",
    "# Create directories if they do not exist\n",
    "os.makedirs(build_dir, exist_ok=True)\n",
    "os.makedirs(model_dir, exist_ok=True)\n",
    "os.makedirs(data_dir, exist_ok=True)\n",
    "os.makedirs(estimates_output_dir, exist_ok=True)\n",
    "os.makedirs(rtlsim_output_dir, exist_ok=True)\n",
    "\n",
    "os.environ[\"FINN_BUILD_DIR\"] = tmp_path\n",
    "print(f\"Data directory: {data_dir}\")\n",
    "print(f\"Finn root directory: {finn_root}\")\n",
    "print(f\"Build directory: {build_dir}\")\n",
    "print(f\"Model directory: {model_dir}\")\n",
    "print(f\"Estimates output directory: {estimates_output_dir}\")\n",
    "print(f\"RTLSim output directory: {rtlsim_output_dir}\")\n",
    "print(f\"Tmp directory: {tmp_path}\")"
   ]
  },
  {
   "cell_type": "code",
   "execution_count": null,
   "id": "746c9aae",
   "metadata": {},
   "outputs": [],
   "source": [
    "if os.path.exists(estimates_output_dir):\n",
    "    shutil.rmtree(estimates_output_dir)\n",
    "    print(\"Previous run results deleted!\")\n",
    "\n",
    "if os.path.exists(rtlsim_output_dir):\n",
    "    shutil.rmtree(rtlsim_output_dir)\n",
    "    print(\"Previous run results deleted!\")\n",
    "\n",
    "if os.path.exists(tmp_path):\n",
    "    shutil.rmtree(tmp_path)\n",
    "    print(\"Previous run results deleted!\")"
   ]
  },
  {
   "cell_type": "code",
   "execution_count": null,
   "id": "5c6d5cec",
   "metadata": {},
   "outputs": [],
   "source": [
    "cfg_stitched_ip = build.DataflowBuildConfig(\n",
    "    output_dir          = rtlsim_output_dir,\n",
    "    mvau_wwidth_max     = 10000,\n",
    "    target_fps          = 1000000,\n",
    "    synth_clk_period_ns = 10.0,    \n",
    "    fpga_part           = pynq_part_map[\"ZCU104\"],\n",
    "    folding_config_file = folding_config_file,\n",
    "    generate_outputs=[\n",
    "        build_cfg.DataflowOutputType.STITCHED_IP,\n",
    "        build_cfg.DataflowOutputType.RTLSIM_PERFORMANCE,\n",
    "        build_cfg.DataflowOutputType.OOC_SYNTH,\n",
    "    ]\n",
    ")"
   ]
  },
  {
   "cell_type": "code",
   "execution_count": null,
   "id": "a23fd862",
   "metadata": {},
   "outputs": [],
   "source": [
    "ready_model_file = model_dir + model_name\n",
    "# build.build_dataflow_cfg(ready_model_file, cfg_stitched_ip)"
   ]
  }
 ],
 "metadata": {
  "kernelspec": {
   "display_name": "Python 3 (ipykernel)",
   "language": "python",
   "name": "python3"
  },
  "language_info": {
   "codemirror_mode": {
    "name": "ipython",
    "version": 3
   },
   "file_extension": ".py",
   "mimetype": "text/x-python",
   "name": "python",
   "nbconvert_exporter": "python",
   "pygments_lexer": "ipython3",
   "version": "3.10.12"
  }
 },
 "nbformat": 4,
 "nbformat_minor": 5
}
